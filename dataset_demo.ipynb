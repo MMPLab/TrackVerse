{
 "cells": [
  {
   "cell_type": "markdown",
   "metadata": {},
   "source": [
    "This noteook includes two demo\n",
    "1. [Download](#download) a track from the JSONL file\n",
    "2. [Parse and extract](#pipeline) tracks in a video using the TrackVerse automated pipeline"
   ]
  },
  {
   "cell_type": "code",
   "execution_count": 1,
   "metadata": {},
   "outputs": [],
   "source": [
    "import json, gzip\n",
    "import tqdm"
   ]
  },
  {
   "cell_type": "markdown",
   "metadata": {},
   "source": [
    "<a id='download'></a>\n",
    "## Download tracks from the JSONL file\n",
    "### (1) Read the JSONL file\n",
    "For demo purpose, we only read one track from the 184K-CB300 subset to show how to read the jonsl file and download correspoonding tracks.\n",
    "\n",
    "To download the all tracks, refer to the [download instructions](https://github.com/MMPLab/TrackVerse?tab=readme-ov-file#download-trackverse)"
   ]
  },
  {
   "cell_type": "code",
   "execution_count": 2,
   "metadata": {},
   "outputs": [
    {
     "name": "stderr",
     "output_type": "stream",
     "text": [
      "0it [00:00, ?it/s]\n"
     ]
    }
   ],
   "source": [
    "HOME_DIR = \"/home/yibingwei/dataset\"\n",
    "BASE_DIR = f\"{HOME_DIR}/object_tracks_db_fixed_detic\"\n",
    "DATASET_PATH = './trackverse'\n",
    "subset_dir = 'tracks_subsets/hdvila_lvis/NoTestVids'\n",
    "subset = 'LVIS-184K-CB300-T0.0-NoTestVids.jsonl.gzip'\n",
    "    \n",
    "subset_gzip = f'{BASE_DIR}/{subset_dir}/{subset}'\n",
    "for line in tqdm.tqdm(gzip.open(subset_gzip, 'rt')):\n",
    "    data = json.loads(line)\n",
    "    break"
   ]
  },
  {
   "cell_type": "markdown",
   "metadata": {},
   "source": [
    "The explanation of the keys\n",
    "\n",
    "- `track_id` - unique track identifier.\n",
    "- `video_size` - [height, width] of the video from which this track was extracted.\n",
    "- `track_ts` - [start_time, end_time] timestamps (seconds) in the original video for the first and last frame in the track.\n",
    "- `top10_lbl` - Class IDs of the top-10 predicted classes for the track, based on class logit score.\n",
    "- `top10_desc` - Names of the top-10 predicted classes for the track, based on class logit score.\n",
    "- `top10_cls` - [[top-10 logits mean], [top-10 logits std]] A list of the mean values of the classification logits for the top 10 classes, and a list of the standard deviations for these logits.\n",
    "- `top10_wcls` - [[top-10 weighted logits mean], [top-10 weighted logits std]] A list of the mean scores for each of the top 10 weighted scores (class logits weighted by the objectness score), and a list of the standard deviations of these scores.\n",
    "- `frame_ts` - timestamps (seconds) in the original video for each frame in the track\n",
    "- `frame_bboxes` - list of bounding box coordinates [top_left_x, top_left_y, bottom_right_x, bottom_right_y] of the object for each frame in the track.\n",
    "- `yid` - YouTube ID for the video from which this track was extracted\n",
    "- `mp4_filename` - Filename of the track produced by running the track extraction pipeline."
   ]
  },
  {
   "cell_type": "code",
   "execution_count": 3,
   "metadata": {},
   "outputs": [
    {
     "data": {
      "text/plain": [
       "{'track_id': 25,\n",
       " 'video_size': [720, 1280],\n",
       " 'track_ts': [157.99116666666666, 161.79496666666665],\n",
       " 'top10_lbl': [276, 588, 965, 869, 764, 110, 1117, 1042, 619, 269],\n",
       " 'top10_desc': ['coat',\n",
       "  'jacket',\n",
       "  'ski parka (also known as ski jacket)',\n",
       "  'raincoat (also known as waterproof jacket)',\n",
       "  'parka (also known as anorak)',\n",
       "  'blazer (also known as sport jacket, sport coat, sports jacket, sports coat)',\n",
       "  'trench coat',\n",
       "  'sweatshirt',\n",
       "  'lab coat (also known as laboratory coat)',\n",
       "  'cloak'],\n",
       " 'top10_cls': [[0.7643770575523376,\n",
       "   0.7308394312858582,\n",
       "   0.6392128467559814,\n",
       "   0.6328601241111755,\n",
       "   0.5113518834114075,\n",
       "   0.3750734329223633,\n",
       "   0.3555653393268585,\n",
       "   0.15030327439308167,\n",
       "   0.12453538924455643,\n",
       "   0.06438256800174713],\n",
       "  [0.06421122699975967,\n",
       "   0.052835941314697266,\n",
       "   0.19852320849895477,\n",
       "   0.16911189258098602,\n",
       "   0.19979597628116608,\n",
       "   0.13355493545532227,\n",
       "   0.12727364897727966,\n",
       "   0.06547857075929642,\n",
       "   0.057766273617744446,\n",
       "   0.0484013631939888]],\n",
       " 'top10_wcls': [[0.5659521946180712,\n",
       "   0.539245345135378,\n",
       "   0.4749265962865914,\n",
       "   0.47038994563842984,\n",
       "   0.38053865898461037,\n",
       "   0.27418754648706545,\n",
       "   0.26616780300953485,\n",
       "   0.1104693747977817,\n",
       "   0.09240047640146963,\n",
       "   0.04890341029539964],\n",
       "  [0.08243759266488547,\n",
       "   0.06212334097199334,\n",
       "   0.15367908124429733,\n",
       "   0.13890127343657938,\n",
       "   0.15387401709394458,\n",
       "   0.09519669526549493,\n",
       "   0.1086684693437019,\n",
       "   0.0498541520320219,\n",
       "   0.046123291715762266,\n",
       "   0.03997242763366929]],\n",
       " 'frame_ts': [157.99116666666666,\n",
       "  158.0579,\n",
       "  158.12463333333332,\n",
       "  158.19136666666665,\n",
       "  158.22473333333335,\n",
       "  158.29146666666668,\n",
       "  158.3582,\n",
       "  158.42493333333334,\n",
       "  158.49166666666667,\n",
       "  158.5584,\n",
       "  158.62513333333334,\n",
       "  158.69186666666667,\n",
       "  158.72523333333334,\n",
       "  158.79196666666667,\n",
       "  158.8587,\n",
       "  158.92543333333333,\n",
       "  158.99216666666666,\n",
       "  159.0589,\n",
       "  159.12563333333333,\n",
       "  159.19236666666666,\n",
       "  159.22573333333332,\n",
       "  159.29246666666666,\n",
       "  159.3592,\n",
       "  159.42593333333335,\n",
       "  159.49266666666668,\n",
       "  159.5594,\n",
       "  159.62613333333334,\n",
       "  159.69286666666667,\n",
       "  159.72623333333334,\n",
       "  159.79296666666667,\n",
       "  159.8597,\n",
       "  159.92643333333334,\n",
       "  159.99316666666667,\n",
       "  160.0599,\n",
       "  160.12663333333333,\n",
       "  160.19336666666666,\n",
       "  160.22673333333333,\n",
       "  160.29346666666666,\n",
       "  160.3602,\n",
       "  160.42693333333332,\n",
       "  160.49366666666666,\n",
       "  160.5604,\n",
       "  160.62713333333335,\n",
       "  160.69386666666668,\n",
       "  160.72723333333334,\n",
       "  160.79396666666668,\n",
       "  160.8607,\n",
       "  160.92743333333334,\n",
       "  160.99416666666667,\n",
       "  161.0609,\n",
       "  161.12763333333334,\n",
       "  161.19436666666667,\n",
       "  161.22773333333333,\n",
       "  161.29446666666666,\n",
       "  161.3612,\n",
       "  161.42793333333333,\n",
       "  161.49466666666666,\n",
       "  161.5614,\n",
       "  161.62813333333332,\n",
       "  161.69486666666666,\n",
       "  161.72823333333332,\n",
       "  161.79496666666665],\n",
       " 'frame_bboxes': [[787.9788818359375,\n",
       "   0.5019735097885132,\n",
       "   458.1923828125,\n",
       "   357.7015686035156],\n",
       "  [822.5243530273438,\n",
       "   1.4207357168197632,\n",
       "   424.58013916015625,\n",
       "   352.6070861816406],\n",
       "  [833.1083984375, 0.45684814453125, 425.336669921875, 359.0869445800781],\n",
       "  [830.1483154296875,\n",
       "   0.0049641928635537624,\n",
       "   431.9908447265625,\n",
       "   368.8196105957031],\n",
       "  [831.3197631835938, 0.0, 431.30181884765625, 372.7996520996094],\n",
       "  [830.8593139648438, 0.0, 432.56280517578125, 381.56402587890625],\n",
       "  [836.4366455078125, 0.0, 410.18408203125, 398.86639404296875],\n",
       "  [837.0973510742188, 0.0, 405.31695556640625, 423.76898193359375],\n",
       "  [818.7216796875, 1.72564697265625, 448.1361083984375, 436.9837646484375],\n",
       "  [805.4725341796875, 5.735249996185303, 455.8896484375, 454.8940734863281],\n",
       "  [780.3072509765625, 7.8637495040893555, 455.365234375, 442.2477722167969],\n",
       "  [783.8787841796875, 4.973165035247803, 431.6558837890625, 424.0165100097656],\n",
       "  [783.8414916992188,\n",
       "   1.3812663555145264,\n",
       "   421.94976806640625,\n",
       "   412.2232971191406],\n",
       "  [780.5949096679688,\n",
       "   4.964192867279053,\n",
       "   419.49200439453125,\n",
       "   390.4479064941406],\n",
       "  [779.6143798828125, 2.9124553203582764, 418.5146484375, 374.5403747558594],\n",
       "  [770.841796875, 3.7641196250915527, 426.151123046875, 354.7074890136719],\n",
       "  [760.7452392578125,\n",
       "   3.2804770469665527,\n",
       "   428.9239501953125,\n",
       "   335.8411865234375],\n",
       "  [752.0861206054688,\n",
       "   0.2975870966911316,\n",
       "   427.11749267578125,\n",
       "   320.302490234375],\n",
       "  [747.7752685546875, 0.024139404296875, 422.1800537109375, 321.0438537597656],\n",
       "  [739.2197265625, 0.0, 424.7108154296875, 317.69708251953125],\n",
       "  [735.4173583984375,\n",
       "   1.2031962871551514,\n",
       "   421.7047119140625,\n",
       "   313.8624267578125],\n",
       "  [710.2398681640625, 1.18768310546875, 443.02294921875, 309.6820068359375],\n",
       "  [695.3636474609375, 0.6729635000228882, 438.2281494140625, 301.87841796875],\n",
       "  [680.685791015625, 0.08294677734375, 422.335693359375, 299.96685791015625],\n",
       "  [664.985595703125, 0.0, 426.6630859375, 287.0274963378906],\n",
       "  [665.7288208007812, 0.187744140625, 409.09735107421875, 276.97149658203125],\n",
       "  [655.68359375, 0.9248148798942566, 403.061767578125, 270.12554931640625],\n",
       "  [642.1910400390625,\n",
       "   1.6441243886947632,\n",
       "   384.1517333984375,\n",
       "   269.08160400390625],\n",
       "  [635.5487060546875, 1.4177449941635132, 378.4921875, 270.9986877441406],\n",
       "  [619.420654296875,\n",
       "   1.6630147695541382,\n",
       "   367.51141357421875,\n",
       "   277.7783508300781],\n",
       "  [596.3839111328125, 0.5016886591911316, 393.277099609375, 296.2228088378906],\n",
       "  [571.11181640625, 0.0, 364.9130859375, 313.65277099609375],\n",
       "  [539.9476318359375, 5.461446285247803, 369.7501220703125, 347.3343811035156],\n",
       "  [526.0281982421875,\n",
       "   37.25211715698242,\n",
       "   340.75958251953125,\n",
       "   384.53729248046875],\n",
       "  [523.28857421875, 86.12447357177734, 317.5313720703125, 361.5552062988281],\n",
       "  [515.7994384765625,\n",
       "   113.1955795288086,\n",
       "   307.19708251953125,\n",
       "   341.4799499511719],\n",
       "  [502.4914245605469,\n",
       "   125.61500549316406,\n",
       "   310.6207580566406,\n",
       "   340.57745361328125],\n",
       "  [475.17266845703125, 144.1355743408203, 321.1571044921875, 338.471435546875],\n",
       "  [452.3311462402344, 151.953857421875, 330.6292419433594, 335.138671875],\n",
       "  [454.057373046875, 162.89035034179688, 314.8526611328125, 316.1581115722656],\n",
       "  [439.8905944824219, 160.53038024902344, 314.9111633300781, 311.60888671875],\n",
       "  [437.97991943359375,\n",
       "   161.3734893798828,\n",
       "   305.83111572265625,\n",
       "   311.27410888671875],\n",
       "  [437.5123291015625,\n",
       "   162.50149536132812,\n",
       "   304.97369384765625,\n",
       "   303.2665710449219],\n",
       "  [436.51055908203125,\n",
       "   162.78587341308594,\n",
       "   311.53460693359375,\n",
       "   306.1463623046875],\n",
       "  [431.81854248046875, 176.4500732421875, 318.744140625, 291.7629089355469],\n",
       "  [431.38629150390625,\n",
       "   180.61483764648438,\n",
       "   322.6510009765625,\n",
       "   271.0514221191406],\n",
       "  [444.40142822265625, 179.2608642578125, 295.67071533203125, 289.85498046875],\n",
       "  [451.57415771484375, 178.7490234375, 274.10125732421875, 280.5235290527344],\n",
       "  [445.9620056152344, 183.4650115966797, 263.0051574707031, 281.8951416015625],\n",
       "  [454.9934997558594,\n",
       "   187.21310424804688,\n",
       "   243.07327270507812,\n",
       "   283.4944763183594],\n",
       "  [469.2347412109375, 196.4330291748047, 227.15118408203125, 276.504150390625],\n",
       "  [484.69830322265625, 194.5422821044922, 218.9849853515625, 275.167236328125],\n",
       "  [492.7509765625, 197.09423828125, 214.45233154296875, 247.33966064453125],\n",
       "  [536.4681396484375, 186.99139404296875, 185.37939453125, 223.31265258789062],\n",
       "  [551.0521850585938, 175.56869506835938, 194.094482421875, 241.2962646484375],\n",
       "  [559.7964477539062, 175.328857421875, 201.0023193359375, 241.11578369140625],\n",
       "  [567.0267333984375, 168.26318359375, 196.16705322265625, 240.14230346679688],\n",
       "  [575.798583984375,\n",
       "   161.59808349609375,\n",
       "   197.69647216796875,\n",
       "   247.49102783203125],\n",
       "  [586.6427001953125,\n",
       "   164.26065063476562,\n",
       "   189.30377197265625,\n",
       "   245.43856811523438],\n",
       "  [600.5003662109375,\n",
       "   173.45697021484375,\n",
       "   185.164306640625,\n",
       "   238.02285766601562],\n",
       "  [607.3278198242188,\n",
       "   182.95468139648438,\n",
       "   173.93048095703125,\n",
       "   227.70388793945312],\n",
       "  [617.876953125, 202.46728515625, 201.2557373046875, 224.84310913085938]],\n",
       " 'yid': '1l4wfwq2TLo',\n",
       " 'mp4_filename': '1l/1l4wfwq2TLo-coat-0b20cf63ce3620af0d1b62b267184ef2.mp4'}"
      ]
     },
     "execution_count": 3,
     "metadata": {},
     "output_type": "execute_result"
    }
   ],
   "source": [
    "data"
   ]
  },
  {
   "cell_type": "markdown",
   "metadata": {},
   "source": [
    "### (2) Download the orignial video from Youtube \n",
    "to DATASET_PATH\n"
   ]
  },
  {
   "cell_type": "code",
   "execution_count": 4,
   "metadata": {},
   "outputs": [
    {
     "name": "stdout",
     "output_type": "stream",
     "text": [
      "[0][1l4wfwq2TLo] Already downloaded.\n",
      "[0][1l4wfwq2TLo] Already split into segments.\n"
     ]
    }
   ],
   "source": [
    "# from utils import youtube as yt_utils\n",
    "\n",
    "# downloader = yt_utils.YoutubeDL('{DATASET_PATH}/videos_mp4')\n",
    "\n",
    "# dl_status, video_filepath = downloader.download_video(data['yid'])\n",
    "# if dl_status == yt_utils.STATUS.FAIL:\n",
    "#     print(f'[{data['yid']}] Download failed.', flush=True)\n",
    "# if dl_status == yt_utils.STATUS.DONE:\n",
    "#     print(f'[{data['yid']}] Already downloaded. Skipping', flush=True)\n",
    "# else:\n",
    "#     print(f'[{data['yid']}] Download successful.', flush=True)\n",
    "\n",
    "from download_videos import TrackVerseDL\n",
    "class TrackVerseDLARGS:\n",
    "    base_dir = DATASET_PATH\n",
    "    yid_index_fn = ''\n",
    "    world_size = 1\n",
    "    rank = 0\n",
    "    skip_cartoon_filter = True\n",
    "    skip_aesthetics_filter = True\n",
    "    \n",
    "    \n",
    "downloader = TrackVerseDL(TrackVerseDLARGS())\n",
    "downloader.process_video(youtube_id=data['yid'], job_id=0)"
   ]
  },
  {
   "cell_type": "markdown",
   "metadata": {},
   "source": [
    "### (3) Extract the track"
   ]
  },
  {
   "cell_type": "code",
   "execution_count": 5,
   "metadata": {},
   "outputs": [
    {
     "name": "stdout",
     "output_type": "stream",
     "text": [
      "[0][1l4wfwq2TLo] Start track extraction\n",
      "[0][1l4wfwq2TLo] Track extraction done.\n"
     ]
    }
   ],
   "source": [
    "from extract_tracks import ObjectTrackExtractor, Track\n",
    "import numpy as np\n",
    "extractor = ObjectTrackExtractor(base_dir=DATASET_PATH, yid_index_fn='') # For this demo, we only extrack one given track so we don't need the yid_index_fn\n",
    "\n",
    "tracks = [Track(\n",
    "            data['yid'],\n",
    "            ts=np.array(data['frame_ts']).astype(float),\n",
    "            boxes=np.array(data['frame_bboxes']).astype(float),\n",
    "            meta=data\n",
    "            )]\n",
    "extractor.extract_tracks_from_video(vid=data['yid'], tracks=tracks, job_id=0)"
   ]
  },
  {
   "cell_type": "code",
   "execution_count": 6,
   "metadata": {},
   "outputs": [
    {
     "data": {
      "text/html": [
       "<video src=\"./trackverse/tracks_mp4/TrackVerseLVIS/1l/1l4wfwq2TLo-coat-0b20cf63ce3620af0d1b62b267184ef2.mp4\" controls  >\n",
       "      Your browser does not support the <code>video</code> element.\n",
       "    </video>"
      ],
      "text/plain": [
       "<IPython.core.display.Video object>"
      ]
     },
     "execution_count": 6,
     "metadata": {},
     "output_type": "execute_result"
    }
   ],
   "source": [
    "# Display the extracted track \n",
    "from IPython.display import Video\n",
    "Video(f\"{DATASET_PATH}/tracks_mp4/{extractor.dataset_domain}/{data['mp4_filename']}\")"
   ]
  },
  {
   "cell_type": "markdown",
   "metadata": {},
   "source": [
    "<a id='pipeline'></a>\n",
    "## Parse and extract tracks from a scene clip in a video using the TrackVerse automated pipeline\n",
    "For demo purpose, we only use one scene from the downloaded video and extract the tracks from that scene.\n",
    "\n",
    "To use the pipeline to create a full dataset, refer to the [pipeline instructions](https://github.com/MMPLab/TrackVerse/tree/main?tab=readme-ov-file#generate-customized-trackverse-dataset).\n",
    "\n",
    "### (1) Scene Cut\n"
   ]
  },
  {
   "cell_type": "code",
   "execution_count": 7,
   "metadata": {},
   "outputs": [],
   "source": [
    "from utils.segments import SegmentExtractor\n"
   ]
  },
  {
   "cell_type": "code",
   "execution_count": 8,
   "metadata": {},
   "outputs": [
    {
     "ename": "ModuleNotFoundError",
     "evalue": "No module named 'centernet'",
     "output_type": "error",
     "traceback": [
      "\u001b[0;31m---------------------------------------------------------------------------\u001b[0m",
      "\u001b[0;31mModuleNotFoundError\u001b[0m                       Traceback (most recent call last)",
      "Cell \u001b[0;32mIn[8], line 1\u001b[0m\n\u001b[0;32m----> 1\u001b[0m \u001b[38;5;28;01mfrom\u001b[39;00m \u001b[38;5;21;01mparse_tracks\u001b[39;00m \u001b[38;5;28;01mimport\u001b[39;00m ObjectTracksParser\n\u001b[1;32m      2\u001b[0m \u001b[38;5;28;01mclass\u001b[39;00m \u001b[38;5;21;01mParserArgs\u001b[39;00m:\n\u001b[1;32m      3\u001b[0m     base_dir \u001b[38;5;241m=\u001b[39m BASE_DIR\n",
      "File \u001b[0;32m~/project/TrackVerse/parse_tracks.py:26\u001b[0m\n\u001b[1;32m     23\u001b[0m \u001b[38;5;28;01mfrom\u001b[39;00m \u001b[38;5;21;01mbytetrack\u001b[39;00m\u001b[38;5;21;01m.\u001b[39;00m\u001b[38;5;21;01mbyte_tracker\u001b[39;00m \u001b[38;5;28;01mimport\u001b[39;00m BYTETracker\n\u001b[1;32m     25\u001b[0m \u001b[38;5;28;01mfrom\u001b[39;00m \u001b[38;5;21;01mutils\u001b[39;00m \u001b[38;5;28;01mimport\u001b[39;00m misc \u001b[38;5;28;01mas\u001b[39;00m misc_utils, avio\n\u001b[0;32m---> 26\u001b[0m \u001b[38;5;28;01mfrom\u001b[39;00m \u001b[38;5;21;01mutils\u001b[39;00m \u001b[38;5;28;01mimport\u001b[39;00m detic \u001b[38;5;28;01mas\u001b[39;00m detic_utils\n\u001b[1;32m     27\u001b[0m \u001b[38;5;28;01mfrom\u001b[39;00m \u001b[38;5;21;01mutils\u001b[39;00m \u001b[38;5;28;01mimport\u001b[39;00m youtube \u001b[38;5;28;01mas\u001b[39;00m yt_utils\n\u001b[1;32m     28\u001b[0m \u001b[38;5;28;01mfrom\u001b[39;00m \u001b[38;5;21;01mutils\u001b[39;00m\u001b[38;5;21;01m.\u001b[39;00m\u001b[38;5;21;01mmisc\u001b[39;00m \u001b[38;5;28;01mimport\u001b[39;00m ProgressTracker\n",
      "File \u001b[0;32m~/project/TrackVerse/utils/detic.py:7\u001b[0m\n\u001b[1;32m      4\u001b[0m sys\u001b[38;5;241m.\u001b[39mpath\u001b[38;5;241m.\u001b[39minsert(\u001b[38;5;241m0\u001b[39m, \u001b[38;5;124m'\u001b[39m\u001b[38;5;124mdetic\u001b[39m\u001b[38;5;124m'\u001b[39m)\n\u001b[1;32m      5\u001b[0m sys\u001b[38;5;241m.\u001b[39mpath\u001b[38;5;241m.\u001b[39minsert(\u001b[38;5;241m0\u001b[39m, \u001b[38;5;124m'\u001b[39m\u001b[38;5;124mdetic/third_party/CenterNet2/\u001b[39m\u001b[38;5;124m'\u001b[39m)\n\u001b[0;32m----> 7\u001b[0m \u001b[38;5;28;01mfrom\u001b[39;00m \u001b[38;5;21;01mcenternet\u001b[39;00m\u001b[38;5;21;01m.\u001b[39;00m\u001b[38;5;21;01mconfig\u001b[39;00m \u001b[38;5;28;01mimport\u001b[39;00m add_centernet_config\n\u001b[1;32m      8\u001b[0m \u001b[38;5;28;01mfrom\u001b[39;00m \u001b[38;5;21;01mdetic\u001b[39;00m\u001b[38;5;21;01m.\u001b[39;00m\u001b[38;5;21;01mconfig\u001b[39;00m \u001b[38;5;28;01mimport\u001b[39;00m add_detic_config\n\u001b[1;32m      9\u001b[0m \u001b[38;5;28;01mfrom\u001b[39;00m \u001b[38;5;21;01mdetectron2\u001b[39;00m\u001b[38;5;21;01m.\u001b[39;00m\u001b[38;5;21;01mconfig\u001b[39;00m \u001b[38;5;28;01mimport\u001b[39;00m get_cfg\n",
      "\u001b[0;31mModuleNotFoundError\u001b[0m: No module named 'centernet'"
     ]
    }
   ],
   "source": [
    "from parse_tracks import ObjectTracksParser\n",
    "class ParserArgs:\n",
    "    base_dir = BASE_DIR\n",
    "    index_fn = ''\n",
    "    dataset_domain = 'LVIS'\n",
    "    world_size = 1\n",
    "    rank = 0\n",
    "paser = ObjectTracksParser(ParserArgs())"
   ]
  }
 ],
 "metadata": {
  "kernelspec": {
   "display_name": "av_cuda121",
   "language": "python",
   "name": "python3"
  },
  "language_info": {
   "codemirror_mode": {
    "name": "ipython",
    "version": 3
   },
   "file_extension": ".py",
   "mimetype": "text/x-python",
   "name": "python",
   "nbconvert_exporter": "python",
   "pygments_lexer": "ipython3",
   "version": "3.8.19"
  }
 },
 "nbformat": 4,
 "nbformat_minor": 2
}
